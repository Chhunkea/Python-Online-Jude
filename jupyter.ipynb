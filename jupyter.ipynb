{
 "cells": [
  {
   "cell_type": "code",
   "execution_count": 5,
   "metadata": {},
   "outputs": [
    {
     "name": "stdout",
     "output_type": "stream",
     "text": [
      "1 2 3 4 6 8 12 13 24 26 39 52 78 104 156 312 677 1354 2031 2708 4062 5416 8124 8801 16248 17602 26403 35204 52806 70408 105612 211224\n"
     ]
    }
   ],
   "source": [
    "def find_divisors(n):\n",
    "    divisors = []\n",
    "    for i in range(1, n + 1):\n",
    "        if n % i == 0:\n",
    "            divisors.append(i)\n",
    "    return divisors\n",
    "\n",
    "input_number = 211224\n",
    "print(*find_divisors(input_number))"
   ]
  },
  {
   "cell_type": "code",
   "execution_count": 8,
   "metadata": {},
   "outputs": [
    {
     "name": "stdout",
     "output_type": "stream",
     "text": [
      "1\n",
      "2\n",
      "3\n",
      "4\n",
      "6\n",
      "8\n",
      "12\n",
      "13\n",
      "24\n",
      "26\n",
      "39\n",
      "52\n",
      "78\n",
      "104\n",
      "156\n",
      "312\n",
      "677\n",
      "1354\n",
      "2031\n",
      "2708\n",
      "4062\n",
      "5416\n",
      "8124\n",
      "8801\n",
      "16248\n",
      "17602\n",
      "26403\n",
      "35204\n",
      "52806\n",
      "70408\n",
      "105612\n",
      "211224\n"
     ]
    }
   ],
   "source": [
    "n = 211224\n",
    "\n",
    "divisors = []\n",
    "for i in range(1, n + 1):\n",
    "    if n % i == 0:\n",
    "        divisors.append(i)\n",
    "\n",
    "for divisor in divisors:\n",
    "    print(divisor)\n"
   ]
  },
  {
   "cell_type": "code",
   "execution_count": 13,
   "metadata": {},
   "outputs": [
    {
     "name": "stdout",
     "output_type": "stream",
     "text": [
      "Number of operations 1\n",
      "Number of operations 2\n",
      "Number of operations 3\n",
      "Number of operations 4\n",
      "Number of operations 5\n",
      "Number of operations 6\n",
      "Number of operations 7\n",
      "Number of operations 8\n",
      "Number of operations 9\n",
      "Number of operations 10\n"
     ]
    }
   ],
   "source": [
    "def sort_numbers():\n",
    "    n = 10\n",
    "    numbers = []\n",
    "\n",
    "    for i in range(n):\n",
    "        numbers.append(i + 1)\n",
    "\n",
    "    for num in numbers:\n",
    "        print(f\"Number of operations {num}\")\n",
    "\n",
    "sort_numbers()"
   ]
  },
  {
   "cell_type": "code",
   "execution_count": 14,
   "metadata": {},
   "outputs": [
    {
     "name": "stdout",
     "output_type": "stream",
     "text": [
      "13\n",
      "17\n",
      "19\n",
      "23\n"
     ]
    }
   ],
   "source": [
    "def is_prime(n):\n",
    "    if n < 2:\n",
    "        return False\n",
    "    for i in range(2, int(n**0.5) + 1):\n",
    "        if n % i == 0:\n",
    "            return False\n",
    "    return True\n",
    "\n",
    "def print_primes(m, n):\n",
    "    for num in range(m, n + 1):\n",
    "        if is_prime(num):\n",
    "            print(num)\n",
    "\n",
    "m, n = map(int, input().split())\n",
    "print_primes(m, n)"
   ]
  },
  {
   "cell_type": "code",
   "execution_count": 24,
   "metadata": {},
   "outputs": [
    {
     "name": "stdout",
     "output_type": "stream",
     "text": [
      "25\n"
     ]
    }
   ],
   "source": [
    "def count_almost_primes(A, B):\n",
    "    almost_primes_count = 0\n",
    "\n",
    "    for num in range(max(2, A), B + 1):\n",
    "        if is_prime(num):\n",
    "            power = num * num\n",
    "            while power <= B:\n",
    "                if power >= A:\n",
    "                    almost_primes_count += 1\n",
    "                power *= num\n",
    "\n",
    "    return almost_primes_count\n",
    "\n",
    "def is_prime(n):\n",
    "    if n < 2:\n",
    "        return False\n",
    "    for i in range(2, int(n**0.5) + 1):\n",
    "        if n % i == 0:\n",
    "            return False\n",
    "    return True\n",
    "\n",
    "A, B = 1, 1000\n",
    "print(count_almost_primes(A, B))"
   ]
  },
  {
   "cell_type": "code",
   "execution_count": 23,
   "metadata": {},
   "outputs": [
    {
     "name": "stdout",
     "output_type": "stream",
     "text": [
      "25\n"
     ]
    }
   ],
   "source": [
    "def count_almost_primes(A, B):\n",
    "    almost_primes_count = 0\n",
    "\n",
    "    for num in range(max(2, A), B + 1):\n",
    "        is_prime = True\n",
    "        for i in range(2, int(num**0.5) + 1):\n",
    "            if num % i == 0:\n",
    "                is_prime = False\n",
    "                break\n",
    "        \n",
    "        # if it prime number\n",
    "        if is_prime:\n",
    "            power = num * num\n",
    "            while power <= B:\n",
    "                if power >= A:\n",
    "                    almost_primes_count += 1\n",
    "                if power > B // num:\n",
    "                    break\n",
    "                power *= num\n",
    "\n",
    "    return almost_primes_count\n",
    "\n",
    "A, B = 1, 1000\n",
    "print(count_almost_primes(A, B))\n"
   ]
  },
  {
   "cell_type": "code",
   "execution_count": 26,
   "metadata": {},
   "outputs": [
    {
     "name": "stdout",
     "output_type": "stream",
     "text": [
      "266711567621704128000\n"
     ]
    }
   ],
   "source": [
    "def perm(n, r):\n",
    "    result = 1\n",
    "    for i in range(n - r + 1, n + 1):\n",
    "        result *= i\n",
    "    return result\n",
    "\n",
    "n, r = 77, 11\n",
    "print(perm(n, r))"
   ]
  }
 ],
 "metadata": {
  "kernelspec": {
   "display_name": "Python 3",
   "language": "python",
   "name": "python3"
  },
  "language_info": {
   "codemirror_mode": {
    "name": "ipython",
    "version": 3
   },
   "file_extension": ".py",
   "mimetype": "text/x-python",
   "name": "python",
   "nbconvert_exporter": "python",
   "pygments_lexer": "ipython3",
   "version": "3.12.3"
  }
 },
 "nbformat": 4,
 "nbformat_minor": 2
}
