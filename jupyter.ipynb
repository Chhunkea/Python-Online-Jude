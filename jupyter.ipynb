{
 "cells": [
  {
   "cell_type": "code",
   "execution_count": 5,
   "metadata": {},
   "outputs": [
    {
     "name": "stdout",
     "output_type": "stream",
     "text": [
      "1 2 3 4 6 8 12 13 24 26 39 52 78 104 156 312 677 1354 2031 2708 4062 5416 8124 8801 16248 17602 26403 35204 52806 70408 105612 211224\n"
     ]
    }
   ],
   "source": [
    "def find_divisors(n):\n",
    "    divisors = []\n",
    "    for i in range(1, n + 1):\n",
    "        if n % i == 0:\n",
    "            divisors.append(i)\n",
    "    return divisors\n",
    "\n",
    "input_number = 211224\n",
    "print(*find_divisors(input_number))"
   ]
  },
  {
   "cell_type": "code",
   "execution_count": 8,
   "metadata": {},
   "outputs": [
    {
     "name": "stdout",
     "output_type": "stream",
     "text": [
      "1\n",
      "2\n",
      "3\n",
      "4\n",
      "6\n",
      "8\n",
      "12\n",
      "13\n",
      "24\n",
      "26\n",
      "39\n",
      "52\n",
      "78\n",
      "104\n",
      "156\n",
      "312\n",
      "677\n",
      "1354\n",
      "2031\n",
      "2708\n",
      "4062\n",
      "5416\n",
      "8124\n",
      "8801\n",
      "16248\n",
      "17602\n",
      "26403\n",
      "35204\n",
      "52806\n",
      "70408\n",
      "105612\n",
      "211224\n"
     ]
    }
   ],
   "source": [
    "n = 211224\n",
    "\n",
    "divisors = []\n",
    "for i in range(1, n + 1):\n",
    "    if n % i == 0:\n",
    "        divisors.append(i)\n",
    "\n",
    "for divisor in divisors:\n",
    "    print(divisor)\n"
   ]
  },
  {
   "cell_type": "code",
   "execution_count": 13,
   "metadata": {},
   "outputs": [
    {
     "name": "stdout",
     "output_type": "stream",
     "text": [
      "Number of operations 1\n",
      "Number of operations 2\n",
      "Number of operations 3\n",
      "Number of operations 4\n",
      "Number of operations 5\n",
      "Number of operations 6\n",
      "Number of operations 7\n",
      "Number of operations 8\n",
      "Number of operations 9\n",
      "Number of operations 10\n"
     ]
    }
   ],
   "source": [
    "def sort_numbers():\n",
    "    n = 10\n",
    "    numbers = []\n",
    "\n",
    "    for i in range(n):\n",
    "        numbers.append(i + 1)\n",
    "\n",
    "    for num in numbers:\n",
    "        print(f\"Number of operations {num}\")\n",
    "\n",
    "sort_numbers()"
   ]
  },
  {
   "cell_type": "code",
   "execution_count": 14,
   "metadata": {},
   "outputs": [
    {
     "name": "stdout",
     "output_type": "stream",
     "text": [
      "13\n",
      "17\n",
      "19\n",
      "23\n"
     ]
    }
   ],
   "source": [
    "def is_prime(n):\n",
    "    if n < 2:\n",
    "        return False\n",
    "    for i in range(2, int(n**0.5) + 1):\n",
    "        if n % i == 0:\n",
    "            return False\n",
    "    return True\n",
    "\n",
    "def print_primes(m, n):\n",
    "    for num in range(m, n + 1):\n",
    "        if is_prime(num):\n",
    "            print(num)\n",
    "\n",
    "m, n = map(int, input().split())\n",
    "print_primes(m, n)"
   ]
  },
  {
   "cell_type": "code",
   "execution_count": 24,
   "metadata": {},
   "outputs": [
    {
     "name": "stdout",
     "output_type": "stream",
     "text": [
      "25\n"
     ]
    }
   ],
   "source": [
    "def count_almost_primes(A, B):\n",
    "    almost_primes_count = 0\n",
    "\n",
    "    for num in range(max(2, A), B + 1):\n",
    "        if is_prime(num):\n",
    "            power = num * num\n",
    "            while power <= B:\n",
    "                if power >= A:\n",
    "                    almost_primes_count += 1\n",
    "                power *= num\n",
    "\n",
    "    return almost_primes_count\n",
    "\n",
    "def is_prime(n):\n",
    "    if n < 2:\n",
    "        return False\n",
    "    for i in range(2, int(n**0.5) + 1):\n",
    "        if n % i == 0:\n",
    "            return False\n",
    "    return True\n",
    "\n",
    "A, B = 1, 1000\n",
    "print(count_almost_primes(A, B))"
   ]
  },
  {
   "cell_type": "code",
   "execution_count": 23,
   "metadata": {},
   "outputs": [
    {
     "name": "stdout",
     "output_type": "stream",
     "text": [
      "25\n"
     ]
    }
   ],
   "source": [
    "def count_almost_primes(A, B):\n",
    "    almost_primes_count = 0\n",
    "\n",
    "    for num in range(max(2, A), B + 1):\n",
    "        is_prime = True\n",
    "        for i in range(2, int(num**0.5) + 1):\n",
    "            if num % i == 0:\n",
    "                is_prime = False\n",
    "                break\n",
    "        \n",
    "        # if it prime number\n",
    "        if is_prime:\n",
    "            power = num * num\n",
    "            while power <= B:\n",
    "                if power >= A:\n",
    "                    almost_primes_count += 1\n",
    "                if power > B // num:\n",
    "                    break\n",
    "                power *= num\n",
    "\n",
    "    return almost_primes_count\n",
    "\n",
    "A, B = 1, 1000\n",
    "print(count_almost_primes(A, B))\n"
   ]
  },
  {
   "cell_type": "code",
   "execution_count": 26,
   "metadata": {},
   "outputs": [
    {
     "name": "stdout",
     "output_type": "stream",
     "text": [
      "266711567621704128000\n"
     ]
    }
   ],
   "source": [
    "def perm(n, r):\n",
    "    result = 1\n",
    "    for i in range(n - r + 1, n + 1):\n",
    "        result *= i\n",
    "    return result\n",
    "\n",
    "n, r = 77, 11\n",
    "print(perm(n, r))"
   ]
  },
  {
   "cell_type": "code",
   "execution_count": 1,
   "metadata": {},
   "outputs": [
    {
     "name": "stdout",
     "output_type": "stream",
     "text": [
      "14549535\n"
     ]
    }
   ],
   "source": [
    "import math\n",
    "from functools import reduce\n",
    "\n",
    "def lcm(a, b):\n",
    "    return abs(a * b) // math.gcd(a, b)\n",
    "\n",
    "def lcm_of_list(numbers):\n",
    "    return reduce(lcm, numbers)\n",
    "\n",
    "X = [1, 3, 5, 7, 9, 11, 13, 15, 17, 19]\n",
    "\n",
    "result = lcm_of_list(X)\n",
    "print(result)\n"
   ]
  },
  {
   "cell_type": "code",
   "execution_count": 4,
   "metadata": {},
   "outputs": [
    {
     "name": "stdout",
     "output_type": "stream",
     "text": [
      "313\n",
      "131\n"
     ]
    }
   ],
   "source": [
    "def collatz_length(n):\n",
    "    length = 1\n",
    "    while n != 1:\n",
    "        n = n // 2 if n % 2 == 0 else 3 * n + 1\n",
    "        length += 1\n",
    "    return length\n",
    "\n",
    "def find_longest_collatz(N, M):\n",
    "    return max((collatz_length(i), i) for i in range(N, M + 1))[::-1]\n",
    "\n",
    "N, M = 123, 321\n",
    "number, length = find_longest_collatz(N, M)\n",
    "\n",
    "print(number)\n",
    "print(length)\n"
   ]
  },
  {
   "cell_type": "code",
   "execution_count": 6,
   "metadata": {},
   "outputs": [
    {
     "name": "stdout",
     "output_type": "stream",
     "text": [
      "7087323\n"
     ]
    }
   ],
   "source": [
    "def triple_fibonacci(N):\n",
    "    if N <= 3:\n",
    "        return N\n",
    "    a, b, c = 1, 2, 3\n",
    "    \n",
    "    for _ in range(4, N + 1):\n",
    "        a, b, c = b, c, (a + b + c) % (2**32 - 1)\n",
    "    return c\n",
    "\n",
    "N = 100000\n",
    "print(triple_fibonacci(N))\n"
   ]
  },
  {
   "cell_type": "code",
   "execution_count": 9,
   "metadata": {},
   "outputs": [
    {
     "name": "stdout",
     "output_type": "stream",
     "text": [
      "61\n",
      "2432\n"
     ]
    }
   ],
   "source": [
    "def ackermann(n, m, c=[0]):\n",
    "    c[0] += 1\n",
    "    return (m + 1) if n == 0 else (\n",
    "           ackermann(n - 1, 1, c) if m == 0 else \n",
    "           ackermann(n - 1, ackermann(n, m - 1, c), c)\n",
    "           )\n",
    "\n",
    "n, m = 3, 3\n",
    "call_counter = [0]\n",
    "result = ackermann(n, m, call_counter)\n",
    "\n",
    "print(result)\n",
    "print(call_counter[0])\n"
   ]
  },
  {
   "cell_type": "code",
   "execution_count": 11,
   "metadata": {},
   "outputs": [
    {
     "name": "stdout",
     "output_type": "stream",
     "text": [
      "1 * 2 * 3 * 4\n"
     ]
    }
   ],
   "source": [
    "def factorial_process(N):\n",
    "    if N == 1:\n",
    "        return \"1\"\n",
    "    else:\n",
    "        factorial = \"1\"\n",
    "        for i in range(2, N + 1):\n",
    "            factorial += f\" * {i}\"\n",
    "        return factorial\n",
    "\n",
    "N = 4\n",
    "print(factorial_process(N))\n"
   ]
  },
  {
   "cell_type": "code",
   "execution_count": 12,
   "metadata": {},
   "outputs": [
    {
     "name": "stdout",
     "output_type": "stream",
     "text": [
      "1*2*3*4\n"
     ]
    }
   ],
   "source": [
    "def factorial_process(N):\n",
    "    if N == 1:\n",
    "        return \"1\"\n",
    "    else:\n",
    "        factorial = \"1\"\n",
    "        for i in range(2, N + 1):\n",
    "            factorial += f\"*{i}\"\n",
    "        return factorial\n",
    "\n",
    "N = int(input())\n",
    "print(factorial_process(N))"
   ]
  },
  {
   "cell_type": "code",
   "execution_count": 13,
   "metadata": {},
   "outputs": [
    {
     "name": "stdout",
     "output_type": "stream",
     "text": [
      "720\n"
     ]
    }
   ],
   "source": [
    "# TODO: 3\n",
    "\n",
    "def factorial(N):\n",
    "    if N == 0 or N == 1:\n",
    "        return 1\n",
    "    else:\n",
    "        result = 1\n",
    "        for i in range(2, N + 1):\n",
    "            result *= i\n",
    "        return result\n",
    "\n",
    "N = 6\n",
    "print(factorial(N))\n"
   ]
  },
  {
   "cell_type": "code",
   "execution_count": 16,
   "metadata": {},
   "outputs": [
    {
     "name": "stdout",
     "output_type": "stream",
     "text": [
      "6!=1*2*3*4*5*6=720\n"
     ]
    }
   ],
   "source": [
    "def factorial_process(N):\n",
    "    if N == 0 or N == 1:\n",
    "        return f\"{N}!=1\"\n",
    "    else:\n",
    "        factorial = f\"{N}!=\"\n",
    "        result = 1\n",
    "        for i in range(1, N + 1):\n",
    "            result *= i\n",
    "            factorial += str(i)\n",
    "            if i < N:\n",
    "                factorial += \"*\"\n",
    "        return f\"{factorial}={result}\"\n",
    "\n",
    "N = int(input())\n",
    "print(factorial_process(N))\n"
   ]
  },
  {
   "cell_type": "code",
   "execution_count": 22,
   "metadata": {},
   "outputs": [
    {
     "name": "stdout",
     "output_type": "stream",
     "text": [
      "6!=(1*2*3*4*5*6)=720\n"
     ]
    }
   ],
   "source": [
    "def factorial_process(N):\n",
    "    if N == 0 or N == 1:\n",
    "        return f\"{N}!=1\"\n",
    "    else:\n",
    "        factorial = f\"{N}!=(\"\n",
    "        result = 1\n",
    "        for i in range(1, N + 1):\n",
    "            result *= i\n",
    "            factorial += str(i)\n",
    "            if i < N:\n",
    "                factorial += \"*\"\n",
    "        factorial += f\")={result}\"\n",
    "        return factorial\n",
    "\n",
    "N = 6\n",
    "print(factorial_process(N))\n"
   ]
  },
  {
   "cell_type": "code",
   "execution_count": 44,
   "metadata": {},
   "outputs": [
    {
     "name": "stdout",
     "output_type": "stream",
     "text": [
      "4\n"
     ]
    }
   ],
   "source": [
    "def collatz_operations(N):\n",
    "    count = 0\n",
    "    while N != 1:\n",
    "        if N % 2 == 0:\n",
    "            N //= 2\n",
    "        else:\n",
    "            N = 3 * N + 1\n",
    "        count += 1\n",
    "    return count - 2\n",
    "\n",
    "N = 10\n",
    "print(collatz_operations(N)) \n"
   ]
  },
  {
   "cell_type": "code",
   "execution_count": 47,
   "metadata": {},
   "outputs": [
    {
     "name": "stdout",
     "output_type": "stream",
     "text": [
      "16\n"
     ]
    }
   ],
   "source": [
    "def hailstone_sequence(N):\n",
    "    max_number = N\n",
    "    while N != 1:\n",
    "        if N % 2 == 0:\n",
    "            N //= 2\n",
    "        else:\n",
    "            N = 3 * N + 1\n",
    "        max_number = max(max_number, N)\n",
    "    return max_number\n",
    "\n",
    "N = 3\n",
    "print(hailstone_sequence(N))"
   ]
  },
  {
   "cell_type": "code",
   "execution_count": 49,
   "metadata": {},
   "outputs": [
    {
     "name": "stdout",
     "output_type": "stream",
     "text": [
      "6765\n"
     ]
    }
   ],
   "source": [
    "def fibonacci_rabbits(N):\n",
    "    # Initialize the list to store the number of pairs for each month\n",
    "    pairs = [0] * (N + 1)\n",
    "\n",
    "    # The first two months have 1 pair of rabbits\n",
    "    pairs[1] = pairs[2] = 1\n",
    "\n",
    "    # The number of pairs for each month starting from the third month\n",
    "    for month in range(3, N + 1):\n",
    "        pairs[month] = pairs[month - 1] + pairs[month - 2]\n",
    "    return pairs[N]\n",
    "\n",
    "N = 20\n",
    "print(fibonacci_rabbits(N))"
   ]
  },
  {
   "cell_type": "code",
   "execution_count": 52,
   "metadata": {},
   "outputs": [
    {
     "name": "stdout",
     "output_type": "stream",
     "text": [
      "4\n"
     ]
    }
   ],
   "source": [
    "def max_gold_coins(N):\n",
    "    coins = [0] * (2 * N + 1)\n",
    "    coins[1] = coins[2] = 1\n",
    "\n",
    "    for i in range(1, N // 2 + 1):\n",
    "        coins[2 * i] = coins[i]\n",
    "        if 2 * i + 1 <= N:\n",
    "            coins[2 * i + 1] = coins[i] + coins[i + 1]\n",
    "\n",
    "    return max(coins)\n",
    "\n",
    "N = 10\n",
    "print(max_gold_coins(N))\n"
   ]
  },
  {
   "cell_type": "code",
   "execution_count": 54,
   "metadata": {},
   "outputs": [
    {
     "name": "stdout",
     "output_type": "stream",
     "text": [
      "5050\n"
     ]
    }
   ],
   "source": [
    "def sum_from_zero_to_n(n):\n",
    "    return n * (n + 1) // 2\n",
    "\n",
    "n = 100\n",
    "print(sum_from_zero_to_n(n))\n"
   ]
  },
  {
   "cell_type": "code",
   "execution_count": 56,
   "metadata": {},
   "outputs": [
    {
     "name": "stdout",
     "output_type": "stream",
     "text": [
      "0\n",
      "1\n",
      "2\n",
      "3\n",
      "4\n",
      "5\n",
      "6\n",
      "7\n",
      "8\n",
      "9\n",
      "10\n",
      "11\n",
      "12\n",
      "13\n",
      "14\n",
      "15\n",
      "16\n",
      "17\n",
      "18\n",
      "19\n",
      "20\n"
     ]
    }
   ],
   "source": [
    "def from_zero_to_n(n):\n",
    "    if n == 0:\n",
    "        print(n)\n",
    "    else:\n",
    "        from_zero_to_n(n - 1)\n",
    "        print(n)\n",
    "\n",
    "n = 20\n",
    "from_zero_to_n(n)\n"
   ]
  },
  {
   "cell_type": "code",
   "execution_count": 58,
   "metadata": {},
   "outputs": [
    {
     "name": "stdout",
     "output_type": "stream",
     "text": [
      "1\n",
      "2\n",
      "3\n",
      "4\n",
      "5\n",
      "6\n",
      "7\n",
      "8\n",
      "9\n",
      "10\n",
      "11\n",
      "12\n",
      "13\n",
      "14\n",
      "15\n",
      "16\n",
      "17\n",
      "18\n",
      "19\n",
      "20\n"
     ]
    }
   ],
   "source": [
    "def from_one_to_n(n):\n",
    "    for i in range(1, n + 1):\n",
    "        print(i)\n",
    "\n",
    "n = 20\n",
    "from_one_to_n(n)\n"
   ]
  },
  {
   "cell_type": "code",
   "execution_count": 60,
   "metadata": {},
   "outputs": [
    {
     "name": "stdout",
     "output_type": "stream",
     "text": [
      "10 9 8 7 6 5 4 3 2 1\n"
     ]
    }
   ],
   "source": [
    "def from_n_to_one(n):\n",
    "    if n == 1:\n",
    "        print(n)\n",
    "    else:\n",
    "        print(n, end=\" \") \n",
    "        from_n_to_one(n - 1)\n",
    "\n",
    "n = 10\n",
    "from_n_to_one(n)\n"
   ]
  },
  {
   "cell_type": "code",
   "execution_count": 63,
   "metadata": {},
   "outputs": [
    {
     "name": "stdout",
     "output_type": "stream",
     "text": [
      "0! =                    1\n",
      "1! =                    1\n",
      "2! =                    2\n",
      "3! =                    6\n",
      "4! =                   24\n",
      "5! =                  120\n",
      "6! =                  720\n",
      "7! =                 5040\n",
      "8! =                40320\n",
      "9! =               362880\n",
      "10! =              3628800\n",
      "11! =             39916800\n",
      "12! =            479001600\n",
      "13! =           6227020800\n",
      "14! =          87178291200\n",
      "15! =        1307674368000\n",
      "16! =       20922789888000\n",
      "17! =      355687428096000\n",
      "18! =     6402373705728000\n",
      "19! =   121645100408832000\n",
      "20! =  2432902008176640000\n"
     ]
    }
   ],
   "source": [
    "def factorial(n):\n",
    "    result = 1\n",
    "    for i in range(1, n + 1):\n",
    "        result *= i\n",
    "    return result\n",
    "\n",
    "def print_factorials(n):\n",
    "    for i in range(n + 1):\n",
    "        print(f\"{i}! = {' ' * (20 - len(str(factorial(i))))}{factorial(i)}\")\n",
    "\n",
    "n = 20\n",
    "print_factorials(n)\n"
   ]
  },
  {
   "cell_type": "code",
   "execution_count": 65,
   "metadata": {},
   "outputs": [
    {
     "name": "stdout",
     "output_type": "stream",
     "text": [
      "A B C D E F G H I J K L M N O P Q R S T U V W X Y Z \n",
      "A B C D E F G H I J K L M N O P Q R S T U V W X Y \n",
      "A B C D E F G H I J K L M N O P Q R S T U V W X \n",
      "A B C D E F G H I J K L M N O P Q R S T U V W \n",
      "A B C D E F G H I J K L M N O P Q R S T U V \n",
      "A B C D E F G H I J K L M N O P Q R S T U \n",
      "A B C D E F G H I J K L M N O P Q R S T \n",
      "A B C D E F G H I J K L M N O P Q R S \n",
      "A B C D E F G H I J K L M N O P Q R \n",
      "A B C D E F G H I J K L M N O P Q \n",
      "A B C D E F G H I J K L M N O P \n",
      "A B C D E F G H I J K L M N O \n",
      "A B C D E F G H I J K L M N \n",
      "A B C D E F G H I J K L M \n",
      "A B C D E F G H I J K L \n",
      "A B C D E F G H I J K \n",
      "A B C D E F G H I J \n",
      "A B C D E F G H I \n",
      "A B C D E F G H \n",
      "A B C D E F G \n",
      "A B C D E F \n",
      "A B C D E \n",
      "A B C D \n",
      "A B C \n",
      "A B \n",
      "A \n"
     ]
    }
   ],
   "source": [
    "def print_alphabet():\n",
    "    for i in range(26, 0, -1): \n",
    "        for j in range(65, 65 + i):\n",
    "            print(chr(j), end=\" \")  \n",
    "        print() \n",
    "\n",
    "print_alphabet()\n"
   ]
  },
  {
   "cell_type": "code",
   "execution_count": 70,
   "metadata": {},
   "outputs": [
    {
     "name": "stdout",
     "output_type": "stream",
     "text": [
      "9 7 2 4 8 4 3 "
     ]
    }
   ],
   "source": [
    "def reverse_numbers(number):\n",
    "    reversed_str = str(number)[::-1] \n",
    "    for digit in reversed_str:\n",
    "        print(digit, end=\" \") \n",
    "\n",
    "\n",
    "number = 3484279\n",
    "reverse_numbers(number)\n"
   ]
  },
  {
   "cell_type": "code",
   "execution_count": 71,
   "metadata": {},
   "outputs": [
    {
     "name": "stdout",
     "output_type": "stream",
     "text": [
      "8\n"
     ]
    }
   ],
   "source": [
    "def euclidean_gcd(x, y):\n",
    "    while y != 0:\n",
    "        x, y = y, x % y\n",
    "    return x\n",
    "\n",
    "x, y = 24, 64\n",
    "print(euclidean_gcd(x, y))\n"
   ]
  },
  {
   "cell_type": "code",
   "execution_count": 72,
   "metadata": {},
   "outputs": [
    {
     "name": "stdout",
     "output_type": "stream",
     "text": [
      "84 and 60: 12\n"
     ]
    }
   ],
   "source": [
    "def euclidean_gcd(x, y):\n",
    "    while y != 0:\n",
    "        x, y = y, x % y\n",
    "    return x\n",
    "\n",
    "x, y = 84, 60\n",
    "gcd = euclidean_gcd(x, y)\n",
    "print(f\"{x} and {y}: {gcd}\")\n"
   ]
  },
  {
   "cell_type": "code",
   "execution_count": 76,
   "metadata": {},
   "outputs": [
    {
     "name": "stdout",
     "output_type": "stream",
     "text": [
      "Number of triangles that can be created: 2\n"
     ]
    }
   ],
   "source": [
    "def count_triangles(n):\n",
    "    count = 0\n",
    "    for a in range(1, n + 1):\n",
    "        for b in range(a, n + 1):\n",
    "            c = n - a - b\n",
    "            if c >= b and a + b > c:\n",
    "                count += 1\n",
    "    return count\n",
    "\n",
    "n = 10\n",
    "print(\"Number of triangles that can be created:\", count_triangles(n))\n"
   ]
  },
  {
   "cell_type": "code",
   "execution_count": 79,
   "metadata": {},
   "outputs": [
    {
     "name": "stdout",
     "output_type": "stream",
     "text": [
      "3 0\n"
     ]
    }
   ],
   "source": [
    "def extended_gcd(a, b):\n",
    "    if b == 0:\n",
    "        return a, 1, 0\n",
    "    else:\n",
    "        d, x, y = extended_gcd(b, a % b)\n",
    "        return d, y, x - y * (a // b)\n",
    "\n",
    "def find_solution(A, B, C):\n",
    "    try:\n",
    "        gcd, x0, y0 = extended_gcd(A, B)\n",
    "        if C % gcd != 0:\n",
    "            return -1, -1\n",
    "        factor = C // gcd\n",
    "        return x0 * factor, y0 * factor\n",
    "    except ZeroDivisionError:\n",
    "        return -1, -1\n",
    "\n",
    "A, B, C = 1, 2, 3\n",
    "x, y = find_solution(A, B, C)\n",
    "print(x, y)\n"
   ]
  },
  {
   "cell_type": "code",
   "execution_count": 81,
   "metadata": {},
   "outputs": [
    {
     "name": "stdout",
     "output_type": "stream",
     "text": [
      "111\n"
     ]
    }
   ],
   "source": [
    "def gcd(a, b):\n",
    "    while b:\n",
    "        a, b = b, a % b\n",
    "    return a\n",
    "\n",
    "A = int('1' * 3)  \n",
    "B = int('1' * 6)  \n",
    "print(gcd(A, B))\n"
   ]
  },
  {
   "cell_type": "code",
   "execution_count": 84,
   "metadata": {},
   "outputs": [
    {
     "name": "stdout",
     "output_type": "stream",
     "text": [
      "ABC\n",
      "cba\n"
     ]
    }
   ],
   "source": [
    "N, characters = input().split()\n",
    "N = int(N)\n",
    "\n",
    "# Sort and print uppercase letters in ascending order\n",
    "print(''.join(sorted(filter(str.isupper, characters))))\n",
    "\n",
    "# Sort and print lowercase letters in descending order\n",
    "print(''.join(sorted(filter(str.islower, characters), reverse=True)))\n"
   ]
  },
  {
   "cell_type": "code",
   "execution_count": 87,
   "metadata": {},
   "outputs": [
    {
     "name": "stdout",
     "output_type": "stream",
     "text": [
      "ABC  cba\n"
     ]
    }
   ],
   "source": [
    "N = 6\n",
    "characters = \"AaBbCc\"\n",
    "\n",
    "# Sort and print uppercase letters in ascending order\n",
    "upper_sorted = ''.join(sorted(filter(str.isupper, characters)))\n",
    "\n",
    "# Sort and print lowercase letters in descending order\n",
    "lower_sorted = ''.join(sorted(filter(str.islower, characters), reverse=True))\n",
    "\n",
    "# Print both lines with a space between them\n",
    "print(upper_sorted + '  ' + lower_sorted)\n"
   ]
  }
 ],
 "metadata": {
  "kernelspec": {
   "display_name": "Python 3",
   "language": "python",
   "name": "python3"
  },
  "language_info": {
   "codemirror_mode": {
    "name": "ipython",
    "version": 3
   },
   "file_extension": ".py",
   "mimetype": "text/x-python",
   "name": "python",
   "nbconvert_exporter": "python",
   "pygments_lexer": "ipython3",
   "version": "3.12.3"
  }
 },
 "nbformat": 4,
 "nbformat_minor": 2
}
